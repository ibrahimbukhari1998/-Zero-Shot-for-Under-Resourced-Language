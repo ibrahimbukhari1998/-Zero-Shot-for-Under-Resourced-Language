{
 "cells": [
  {
   "cell_type": "markdown",
   "metadata": {},
   "source": [
    "# Header"
   ]
  },
  {
   "cell_type": "code",
   "execution_count": 1,
   "metadata": {},
   "outputs": [
    {
     "name": "stderr",
     "output_type": "stream",
     "text": [
      "INFO:local_library.xlmr_pipeline:LOG: Using device: cpu\n",
      "INFO:local_library.xlmr_pipeline:LOG: Initialized XLMRoberta Tokenizer Fast\n"
     ]
    }
   ],
   "source": [
    "import local_library.xlmr_pipeline as xlmrpipe\n",
    "\n",
    "# Initialize pipeline\n",
    "pipeline = xlmrpipe.POSTaggingPipeline()"
   ]
  },
  {
   "cell_type": "markdown",
   "metadata": {},
   "source": [
    "# 2. Loading and Processing Dataset"
   ]
  },
  {
   "cell_type": "code",
   "execution_count": 2,
   "metadata": {},
   "outputs": [
    {
     "name": "stderr",
     "output_type": "stream",
     "text": [
      "INFO:local_library.xlmr_pipeline:Loading en_ewt dataset, train split\n",
      "INFO:local_library.xlmr_pipeline:Loaded 12543 sentences from en_ewt train split\n",
      "INFO:local_library.xlmr_pipeline:Loading en_ewt dataset, validation split\n",
      "INFO:local_library.xlmr_pipeline:Loaded 2002 sentences from en_ewt validation split\n",
      "INFO:local_library.xlmr_pipeline:Loading wo_wtb dataset, test split\n",
      "INFO:local_library.xlmr_pipeline:Loaded 470 sentences from wo_wtb test split\n"
     ]
    }
   ],
   "source": [
    "# Load English data\n",
    "en_train_texts, en_train_tags = pipeline.prepare_data(\"en_ewt\", \"train\")\n",
    "en_eval_texts, en_eval_tags = pipeline.prepare_data(\"en_ewt\", \"validation\")\n",
    "\n",
    "# Load Wolof test data\n",
    "wo_texts, wo_tags = pipeline.prepare_data(\"wo_wtb\", \"test\")"
   ]
  },
  {
   "cell_type": "code",
   "execution_count": 3,
   "metadata": {},
   "outputs": [],
   "source": [
    "# Reduce dataset size for training and evaluation\n",
    "en_train_texts_reduced, en_train_tags_reduced = xlmrpipe.reduce_dataset_size(en_train_texts, en_train_tags, fraction=0.5)\n",
    "en_eval_texts_reduced, en_eval_tags_reduced = xlmrpipe.reduce_dataset_size(en_eval_texts, en_eval_tags, fraction=0.5)"
   ]
  },
  {
   "cell_type": "markdown",
   "metadata": {},
   "source": [
    "# 3. Training"
   ]
  },
  {
   "cell_type": "code",
   "execution_count": 4,
   "metadata": {},
   "outputs": [
    {
     "name": "stderr",
     "output_type": "stream",
     "text": [
      "INFO:local_library.xlmr_pipeline:Created mappings for 18 unique tags: [0, 1, 2, 3, 4, 5, 6, 7, 8, 9, 10, 11, 12, 13, 14, 15, 16, 17]\n",
      "INFO:local_library.xlmr_pipeline:Initializing model with 18 labels\n",
      "Some weights of XLMRobertaForTokenClassification were not initialized from the model checkpoint at xlm-roberta-base and are newly initialized: ['classifier.bias', 'classifier.weight']\n",
      "You should probably TRAIN this model on a down-stream task to be able to use it for predictions and inference.\n",
      "INFO:local_library.xlmr_pipeline:LOG: Initialized XLM-R Model\n",
      "INFO:local_library.xlmr_pipeline:Model initialized and moved to device\n",
      "/Users/ibrahimbukhari/Documents/Courses/Software Projects/Code/.venvTransfer/lib/python3.12/site-packages/transformers/optimization.py:591: FutureWarning: This implementation of AdamW is deprecated and will be removed in a future version. Use the PyTorch implementation torch.optim.AdamW instead, or set `no_deprecation_warning=True` to disable this warning\n",
      "  warnings.warn(\n",
      "INFO:local_library.xlmr_pipeline:Starting training...\n",
      "INFO:local_library.xlmr_pipeline:Epoch 1/1, Batch 100/392, Loss: 0.2987\n"
     ]
    },
    {
     "name": "stdout",
     "output_type": "stream",
     "text": [
      "Epoch 1/1, Batch 100/392, Loss: 0.2987\n"
     ]
    },
    {
     "name": "stderr",
     "output_type": "stream",
     "text": [
      "INFO:local_library.xlmr_pipeline:Epoch 1/1, Batch 200/392, Loss: 0.1042\n"
     ]
    },
    {
     "name": "stdout",
     "output_type": "stream",
     "text": [
      "Epoch 1/1, Batch 200/392, Loss: 0.1042\n"
     ]
    },
    {
     "name": "stderr",
     "output_type": "stream",
     "text": [
      "INFO:local_library.xlmr_pipeline:Epoch 1/1, Batch 300/392, Loss: 0.1387\n"
     ]
    },
    {
     "name": "stdout",
     "output_type": "stream",
     "text": [
      "Epoch 1/1, Batch 300/392, Loss: 0.1387\n"
     ]
    },
    {
     "name": "stderr",
     "output_type": "stream",
     "text": [
      "INFO:local_library.xlmr_pipeline:Epoch 1/1, Average Loss: 0.5697\n",
      "INFO:local_library.xlmr_pipeline:Starting evaluation...\n",
      "INFO:local_library.xlmr_pipeline:Validation F1: 0.9447\n",
      "INFO:local_library.xlmr_pipeline:New best F1 score: 0.9447\n"
     ]
    }
   ],
   "source": [
    "# Train model\n",
    "pipeline.train(\n",
    "    train_texts=en_train_texts_reduced,\n",
    "    train_tags=en_train_tags_reduced,\n",
    "    eval_texts=en_eval_texts_reduced,\n",
    "    eval_tags=en_eval_tags_reduced,\n",
    "    epochs=1\n",
    ")"
   ]
  },
  {
   "cell_type": "markdown",
   "metadata": {},
   "source": [
    "# 4. Evaluating"
   ]
  },
  {
   "cell_type": "code",
   "execution_count": 5,
   "metadata": {},
   "outputs": [
    {
     "name": "stderr",
     "output_type": "stream",
     "text": [
      "INFO:local_library.xlmr_pipeline:Starting prediction...\n",
      "INFO:local_library.xlmr_pipeline:Generated predictions for 470 sentences\n"
     ]
    }
   ],
   "source": [
    "# Get predictions\n",
    "predictions = pipeline.predict(wo_texts)"
   ]
  },
  {
   "cell_type": "code",
   "execution_count": 6,
   "metadata": {},
   "outputs": [
    {
     "name": "stdout",
     "output_type": "stream",
     "text": [
      "              precision    recall  f1-score   support\n",
      "\n",
      "           0       0.41      0.37      0.39      1744\n",
      "           1       0.94      1.00      0.97      1197\n",
      "           2       0.12      0.05      0.07       765\n",
      "           3       0.89      0.36      0.51       142\n",
      "           4       0.00      0.00      0.00         1\n",
      "           5       0.00      0.00      0.00       212\n",
      "           6       0.02      1.00      0.03         2\n",
      "           7       0.03      0.06      0.04       145\n",
      "           8       0.01      0.00      0.00       804\n",
      "           9       0.17      0.11      0.14       265\n",
      "          10       0.32      0.92      0.47       706\n",
      "          11       0.40      0.57      0.47      1400\n",
      "          12       0.00      0.00      0.00         0\n",
      "          13       0.17      0.19      0.18       309\n",
      "          14       0.05      0.06      0.05       303\n",
      "          15       0.01      1.00      0.02         3\n",
      "          16       0.35      0.27      0.30      1752\n",
      "          17       0.12      0.04      0.06       962\n",
      "\n",
      "    accuracy                           0.37     10712\n",
      "   macro avg       0.22      0.33      0.21     10712\n",
      "weighted avg       0.34      0.37      0.34     10712\n",
      "\n"
     ]
    },
    {
     "name": "stderr",
     "output_type": "stream",
     "text": [
      "/Users/ibrahimbukhari/Documents/Courses/Software Projects/Code/.venvTransfer/lib/python3.12/site-packages/sklearn/metrics/_classification.py:1531: UndefinedMetricWarning: Recall is ill-defined and being set to 0.0 in labels with no true samples. Use `zero_division` parameter to control this behavior.\n",
      "  _warn_prf(average, modifier, f\"{metric.capitalize()} is\", len(result))\n",
      "/Users/ibrahimbukhari/Documents/Courses/Software Projects/Code/.venvTransfer/lib/python3.12/site-packages/sklearn/metrics/_classification.py:1531: UndefinedMetricWarning: Recall is ill-defined and being set to 0.0 in labels with no true samples. Use `zero_division` parameter to control this behavior.\n",
      "  _warn_prf(average, modifier, f\"{metric.capitalize()} is\", len(result))\n",
      "/Users/ibrahimbukhari/Documents/Courses/Software Projects/Code/.venvTransfer/lib/python3.12/site-packages/sklearn/metrics/_classification.py:1531: UndefinedMetricWarning: Recall is ill-defined and being set to 0.0 in labels with no true samples. Use `zero_division` parameter to control this behavior.\n",
      "  _warn_prf(average, modifier, f\"{metric.capitalize()} is\", len(result))\n"
     ]
    }
   ],
   "source": [
    "# Get Classification Report\n",
    "report = pipeline.get_Classification_Report(wo_tags, predictions)\n",
    "print(report)"
   ]
  }
 ],
 "metadata": {
  "kernelspec": {
   "display_name": ".venvTransfer",
   "language": "python",
   "name": "python3"
  },
  "language_info": {
   "codemirror_mode": {
    "name": "ipython",
    "version": 3
   },
   "file_extension": ".py",
   "mimetype": "text/x-python",
   "name": "python",
   "nbconvert_exporter": "python",
   "pygments_lexer": "ipython3",
   "version": "3.12.7"
  }
 },
 "nbformat": 4,
 "nbformat_minor": 2
}
