{
 "cells": [
  {
   "cell_type": "code",
   "execution_count": null,
   "metadata": {},
   "outputs": [],
   "source": [
    "import local_library.automation_util as automation"
   ]
  },
  {
   "cell_type": "markdown",
   "metadata": {},
   "source": [
    "# MULTIPLE High Resource Language Tuning: `GLOT500`"
   ]
  },
  {
   "cell_type": "code",
   "execution_count": null,
   "metadata": {},
   "outputs": [],
   "source": [
    "model_name = 'cis-lmu/glot500-base'\n",
    "\n",
    "paramters = [\n",
    "                {\n",
    "                    'tuning_codes': ['tune_code1', 'tune_code2'],\n",
    "                    'test_code': 'test_code',\n",
    "                    'model_name': model_name,\n",
    "                    'character_level_injection': False,\n",
    "                    'injection_vocab': \"\",\n",
    "                    'injection_prob': 0.0\n",
    "                },\n",
    "                \n",
    "                {\n",
    "                    'tuning_codes': ['tune_code1', 'tune_code2'],\n",
    "                    'test_code': 'test_code',\n",
    "                    'model_name': model_name,\n",
    "                    'character_level_injection': False,\n",
    "                    'injection_vocab': \"\",\n",
    "                    'injection_prob': 0.0\n",
    "                }\n",
    "    ]"
   ]
  },
  {
   "cell_type": "code",
   "execution_count": null,
   "metadata": {},
   "outputs": [],
   "source": [
    "batch_results = automation.batch_tune_eval(paramters)"
   ]
  },
  {
   "cell_type": "markdown",
   "metadata": {},
   "source": [
    "# MULTIPLE High Resource Language Tuning: `XLMR`"
   ]
  },
  {
   "cell_type": "code",
   "execution_count": null,
   "metadata": {},
   "outputs": [],
   "source": [
    "model_name = 'xlm-roberta-base'\n",
    "\n",
    "paramters = [\n",
    "                {\n",
    "                    'tuning_codes': ['tune_code1', 'tune_code2'],\n",
    "                    'test_code': 'test_code',\n",
    "                    'model_name': model_name,\n",
    "                    'character_level_injection': False,\n",
    "                    'injection_vocab': \"\",\n",
    "                    'injection_prob': 0.0\n",
    "                },\n",
    "                \n",
    "                {\n",
    "                    'tuning_codes': ['tune_code1', 'tune_code2'],\n",
    "                    'test_code': 'test_code',\n",
    "                    'model_name': model_name,\n",
    "                    'character_level_injection': False,\n",
    "                    'injection_vocab': \"\",\n",
    "                    'injection_prob': 0.0\n",
    "                }\n",
    "    ]"
   ]
  },
  {
   "cell_type": "code",
   "execution_count": null,
   "metadata": {},
   "outputs": [],
   "source": [
    "batch_results = automation.batch_tune_eval(paramters)"
   ]
  }
 ],
 "metadata": {
  "kernelspec": {
   "display_name": ".venvTransfer",
   "language": "python",
   "name": "python3"
  },
  "language_info": {
   "name": "python",
   "version": "3.12.8"
  }
 },
 "nbformat": 4,
 "nbformat_minor": 2
}
