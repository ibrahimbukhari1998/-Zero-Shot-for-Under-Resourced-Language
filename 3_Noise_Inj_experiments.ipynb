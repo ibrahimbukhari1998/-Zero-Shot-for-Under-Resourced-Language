{
 "cells": [
  {
   "cell_type": "code",
   "execution_count": 1,
   "metadata": {},
   "outputs": [],
   "source": [
    "import local_library.automation_util as automation"
   ]
  },
  {
   "cell_type": "markdown",
   "metadata": {},
   "source": [
    "en_ewt    ||      wo_wtb\n",
    "\n",
    "fr_gsd    ||      ca_ancora\n",
    "\n",
    "ar_nyuad  ||      ur_udtb  \n",
    "\n",
    "ru_taiga  ||      uk_iu"
   ]
  },
  {
   "cell_type": "markdown",
   "metadata": {},
   "source": [
    "# NOISE INJECTION Tuning: `GLOT500`"
   ]
  },
  {
   "cell_type": "code",
   "execution_count": null,
   "metadata": {},
   "outputs": [],
   "source": [
    "model_name = 'cis-lmu/glot500-base'\n",
    "\n",
    "paramters = [\n",
    "                {\n",
    "                    'tuning_codes': ['fr_gsd'],\n",
    "                    'test_code': 'ca_ancora',\n",
    "                    'model_name': model_name,\n",
    "                    'tuned_model_name': 'glot500-Inj-fr_gsd',\n",
    "                    'character_level_injection': True,\n",
    "                    'injection_vocab': \"L·lŀlÇÏÜ!@#$%^&*()_+-=[]{}|;:,.<>?/~\",\n",
    "                    'injection_prob': 0.15,\n",
    "                    'sample_threshold': 0\n",
    "                },\n",
    "                \n",
    "                {\n",
    "                    'tuning_codes': ['en_ewt'],\n",
    "                    'test_code': 'wo_wtb',\n",
    "                    'model_name': model_name,\n",
    "                    'tuned_model_name': 'glot500-Inj-en_ewt'\n",
    "                    'character_level_injection': True,\n",
    "                    'injection_vocab': \"ƊɗÑñŊŋ!@#$%^&*()_+-=[]{}|;:,.<>?/~\",\n",
    "                    'injection_prob': 0.15,\n",
    "                    'sample_threshold': 0\n",
    "                }\n",
    "    ]"
   ]
  },
  {
   "cell_type": "code",
   "execution_count": null,
   "metadata": {},
   "outputs": [],
   "source": [
    "batch_results = automation.batch_tune_eval(paramters)"
   ]
  },
  {
   "cell_type": "markdown",
   "metadata": {},
   "source": [
    "# NOISE INJECTION Tuning: `XLMR`"
   ]
  },
  {
   "cell_type": "code",
   "execution_count": null,
   "metadata": {},
   "outputs": [],
   "source": []
  },
  {
   "cell_type": "code",
   "execution_count": null,
   "metadata": {},
   "outputs": [],
   "source": []
  }
 ],
 "metadata": {
  "kernelspec": {
   "display_name": ".venvTransfer",
   "language": "python",
   "name": "python3"
  },
  "language_info": {
   "codemirror_mode": {
    "name": "ipython",
    "version": 3
   },
   "file_extension": ".py",
   "mimetype": "text/x-python",
   "name": "python",
   "nbconvert_exporter": "python",
   "pygments_lexer": "ipython3",
   "version": "3.12.8"
  }
 },
 "nbformat": 4,
 "nbformat_minor": 2
}
