{
 "cells": [
  {
   "cell_type": "markdown",
   "metadata": {},
   "source": [
    "# Dropout Experiments\n",
    "This notebook runs experiments using:\n",
    "    - BPE dropout for XLM-R\n",
    "    - Word dropout for Glot500"
   ]
  },
  {
   "cell_type": "code",
   "execution_count": null,
   "metadata": {},
   "outputs": [],
   "source": [
    "import local_library.automation_util as automation\n",
    "from huggingface_hub import login"
   ]
  },
  {
   "cell_type": "markdown",
   "metadata": {},
   "source": [
    "## 1. XLM-R Experiments (BPE Dropout)"
   ]
  },
  {
   "cell_type": "code",
   "execution_count": null,
   "metadata": {},
   "outputs": [],
   "source": [
    "xlmr_parameters = [\n",
    "    # English -> Wolof experiments\n",
    "    {\n",
    "        'tuning_codes': ['en_ewt'],        # English training data\n",
    "        'test_code': 'wo_wtb',             # Wolof test data\n",
    "        'model_name': 'xlm-roberta-base',  \n",
    "        'tuned_model_name': 'xlmr-bpe-dropout-0.1-en-wo',\n",
    "        'use_dropout': True,\n",
    "        'dropout_prob': 0.1                # 10% dropout probability\n",
    "    },\n",
    "    {\n",
    "        'tuning_codes': ['en_ewt'],\n",
    "        'test_code': 'wo_wtb',\n",
    "        'model_name': 'xlm-roberta-base',\n",
    "        'tuned_model_name': 'xlmr-bpe-dropout-0.2-en-wo',\n",
    "        'use_dropout': True,\n",
    "        'dropout_prob': 0.2                # 20% dropout probability\n",
    "    },\n",
    "    \n",
    "    # French -> Catalan experiments\n",
    "    {\n",
    "        'tuning_codes': ['fr_gsd'],        # French training data\n",
    "        'test_code': 'ca_ancora',          # Catalan test data\n",
    "        'model_name': 'xlm-roberta-base',\n",
    "        'tuned_model_name': 'xlmr-bpe-dropout-0.1-fr-ca',\n",
    "        'use_dropout': True,\n",
    "        'dropout_prob': 0.1\n",
    "    },\n",
    "    {\n",
    "        'tuning_codes': ['fr_gsd'],\n",
    "        'test_code': 'ca_ancora',\n",
    "        'model_name': 'xlm-roberta-base',\n",
    "        'tuned_model_name': 'xlmr-bpe-dropout-0.2-fr-ca',\n",
    "        'use_dropout': True,\n",
    "        'dropout_prob': 0.2\n",
    "    }\n",
    "]"
   ]
  },
  {
   "cell_type": "code",
   "execution_count": null,
   "metadata": {},
   "outputs": [],
   "source": [
    "# Run XLM-R experiments\n",
    "print(\"Starting XLM-R experiments with BPE dropout...\")\n",
    "xlmr_results = automation.batch_tune_eval(xlmr_parameters)"
   ]
  },
  {
   "cell_type": "markdown",
   "metadata": {},
   "source": [
    "## 2. GLOT500 Experiments (Word Dropout)"
   ]
  },
  {
   "cell_type": "code",
   "execution_count": null,
   "metadata": {},
   "outputs": [],
   "source": [
    "# Define parameters for GLOT500 experiments\n",
    "glot500_parameters = [\n",
    "    # English -> Wolof experiments\n",
    "    {\n",
    "        'tuning_codes': ['en_ewt'],\n",
    "        'test_code': 'wo_wtb',\n",
    "        'model_name': 'cis-lmu/glot500-base',\n",
    "        'tuned_model_name': 'glot500-word-dropout-0.1-en-wo',\n",
    "        'use_dropout': True,\n",
    "        'dropout_prob': 0.1                # 10% word dropout\n",
    "    },\n",
    "    {\n",
    "        'tuning_codes': ['en_ewt'],\n",
    "        'test_code': 'wo_wtb',\n",
    "        'model_name': 'cis-lmu/glot500-base',\n",
    "        'tuned_model_name': 'glot500-word-dropout-0.2-en-wo',\n",
    "        'use_dropout': True,\n",
    "        'dropout_prob': 0.2                # 20% word dropout\n",
    "    },\n",
    "    \n",
    "    # French -> Catalan experiments\n",
    "    {\n",
    "        'tuning_codes': ['fr_gsd'],\n",
    "        'test_code': 'ca_ancora',\n",
    "        'model_name': 'cis-lmu/glot500-base',\n",
    "        'tuned_model_name': 'glot500-word-dropout-0.1-fr-ca',\n",
    "        'use_dropout': True,\n",
    "        'dropout_prob': 0.1\n",
    "    },\n",
    "    {\n",
    "        'tuning_codes': ['fr_gsd'],\n",
    "        'test_code': 'ca_ancora',\n",
    "        'model_name': 'cis-lmu/glot500-base',\n",
    "        'tuned_model_name': 'glot500-word-dropout-0.2-fr-ca',\n",
    "        'use_dropout': True,\n",
    "        'dropout_prob': 0.2\n",
    "    }\n",
    "]"
   ]
  },
  {
   "cell_type": "code",
   "execution_count": null,
   "metadata": {},
   "outputs": [],
   "source": [
    "# Run GLOT500 experiments\n",
    "print(\"Starting GLOT500 experiments with word dropout...\")\n",
    "glot500_results = automation.batch_tune_eval(glot500_parameters)"
   ]
  }
 ],
 "metadata": {
  "kernelspec": {
   "display_name": "Python 3",
   "language": "python",
   "name": "python3"
  },
  "language_info": {
   "name": "python",
   "version": "3.11.4"
  }
 },
 "nbformat": 4,
 "nbformat_minor": 2
}
